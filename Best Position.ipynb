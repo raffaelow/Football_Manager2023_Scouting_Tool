{
 "cells": [
  {
   "cell_type": "code",
   "execution_count": 1,
   "metadata": {},
   "outputs": [],
   "source": [
    "%matplotlib inline\n",
    "import json\n",
    "import pickle\n",
    "import numpy as np\n",
    "import pandas as pd\n",
    "from typing import List, Tuple\n",
    "import matplotlib.pyplot as plt\n",
    "import ipywidgets as widgets\n",
    "from IPython.display import display\n",
    "\"\"\" import torch\n",
    "import torch.nn as nn\n",
    "import torch.optim as optim\n",
    "import torch.nn.functional as F \"\"\"\n",
    "from sklearn.model_selection import KFold\n",
    "from sklearn.preprocessing import StandardScaler\n",
    "from sklearn.neighbors import KNeighborsClassifier\n",
    "from sklearn.ensemble import RandomForestClassifier\n",
    "from sklearn.metrics import accuracy_score, precision_score, recall_score, f1_score\n",
    "plt.rcParams['figure.figsize'] = [18, 9]\n",
    "\n"
   ]
  },
  {
   "cell_type": "code",
   "execution_count": 2,
   "metadata": {},
   "outputs": [],
   "source": [
    "pd.set_option('display.max_columns',100)\n",
    "pd.set_option('display.max_rows', 100)"
   ]
  },
  {
   "cell_type": "code",
   "execution_count": 3,
   "metadata": {},
   "outputs": [],
   "source": [
    "#conda install pytorch::pytorch torchvision torchaudio -c pytorch\n"
   ]
  },
  {
   "cell_type": "code",
   "execution_count": null,
   "metadata": {},
   "outputs": [],
   "source": []
  },
  {
   "cell_type": "code",
   "execution_count": 4,
   "metadata": {},
   "outputs": [],
   "source": [
    "fm_dataset = pd.read_csv(\"/Users/rafa/Desktop/Project/Code/FM 2023.csv\")\n"
   ]
  },
  {
   "cell_type": "code",
   "execution_count": 5,
   "metadata": {},
   "outputs": [
    {
     "data": {
      "text/plain": [
       "<Axes: >"
      ]
     },
     "execution_count": 5,
     "metadata": {},
     "output_type": "execute_result"
    },
    {
     "data": {
      "image/png": "[encoded data removed]",
      "text/plain": [
       "<Figure size 1800x900 with 1 Axes>"
      ]
     },
     "metadata": {},
     "output_type": "display_data"
    }
   ],
   "source": [
    "fm_dataset.ST.hist(bins=20)"
   ]
  },
  {
   "cell_type": "code",
   "execution_count": 6,
   "metadata": {},
   "outputs": [],
   "source": [
    "features = ['Age', 'Corners',\n",
    "       'Crossing', 'Dribbling', 'Finishing', 'First Touch', \n",
    "       'Heading', 'Long Shots',  'Marking', 'Passing',\n",
    "       'Penalty Taking', 'Tackling', 'Technique', 'Aggressiion',\n",
    "       'Anticipation', 'Bravery', 'Composure', 'Concentration', 'Vision',\n",
    "       'Decision', 'Determination',  'Leadership', 'Off The Ball',\n",
    "       'Teamwork', 'Work Rate', 'Acceleration', 'Agility',\n",
    "       'Balance', 'Jumping Reach', 'Natural Fitness', 'Pace', 'Stamina',\n",
    "       'Strength', 'Stability', 'Foul']\n",
    "\n",
    "classification_labels = [\"GK\", \"DL\", \"DC\", \"DR\", \"WBL\", \"WBR\", \"DM\", \"ML\", \"MC\", \"MR\", \"AML\", \"AMC\", \"AMR\", \"ST\"]\n",
    "\n",
    "\n",
    "features = fm_dataset[features]\n",
    "classification = fm_dataset[classification_labels]"
   ]
  },
  {
   "cell_type": "code",
   "execution_count": 7,
   "metadata": {},
   "outputs": [
    {
     "name": "stderr",
     "output_type": "stream",
     "text": [
      "/var/folders/dp/sb0zbjrn4y70c9_f08rwfmx00000gn/T/ipykernel_12337/2297977626.py:2: SettingWithCopyWarning: \n",
      "A value is trying to be set on a copy of a slice from a DataFrame.\n",
      "Try using .loc[row_indexer,col_indexer] = value instead\n",
      "\n",
      "See the caveats in the documentation: https://pandas.pydata.org/pandas-docs/stable/user_guide/indexing.html#returning-a-view-versus-a-copy\n",
      "  classification[classification<15] = 0\n",
      "/var/folders/dp/sb0zbjrn4y70c9_f08rwfmx00000gn/T/ipykernel_12337/2297977626.py:2: SettingWithCopyWarning: \n",
      "A value is trying to be set on a copy of a slice from a DataFrame\n",
      "\n",
      "See the caveats in the documentation: https://pandas.pydata.org/pandas-docs/stable/user_guide/indexing.html#returning-a-view-versus-a-copy\n",
      "  classification[classification<15] = 0\n",
      "/var/folders/dp/sb0zbjrn4y70c9_f08rwfmx00000gn/T/ipykernel_12337/2297977626.py:3: SettingWithCopyWarning: \n",
      "A value is trying to be set on a copy of a slice from a DataFrame.\n",
      "Try using .loc[row_indexer,col_indexer] = value instead\n",
      "\n",
      "See the caveats in the documentation: https://pandas.pydata.org/pandas-docs/stable/user_guide/indexing.html#returning-a-view-versus-a-copy\n",
      "  classification[classification>=15] = 1\n",
      "/var/folders/dp/sb0zbjrn4y70c9_f08rwfmx00000gn/T/ipykernel_12337/2297977626.py:3: SettingWithCopyWarning: \n",
      "A value is trying to be set on a copy of a slice from a DataFrame\n",
      "\n",
      "See the caveats in the documentation: https://pandas.pydata.org/pandas-docs/stable/user_guide/indexing.html#returning-a-view-versus-a-copy\n",
      "  classification[classification>=15] = 1\n"
     ]
    }
   ],
   "source": [
    "# Player can play in a position if its skill is >=15\n",
    "classification[classification<14] = 0\n",
    "classification[classification>=14] = 1"
   ]
  },
  {
   "cell_type": "code",
   "execution_count": 8,
   "metadata": {},
   "outputs": [],
   "source": [
    "def evaluate_predictions(labels: List[str], actual_values: np.ndarray, predictions: np.ndarray) -> Tuple[dict, float]:\n",
    "    \"\"\"Evaluate the predictions of the model.\n",
    "    \n",
    "    Returns a dictionary with the recall, precision and F1-score for each label\n",
    "    and the overall average F1-score.\n",
    "    \"\"\"\n",
    "    f1_scores = []\n",
    "    results = {}\n",
    "    for label, actual, pred in zip(labels, actual_values, predictions):\n",
    "        results[label] = {\"recall\": recall_score(actual, pred),\n",
    "                          \"precision\": precision_score(actual, pred),\n",
    "                          \"f1-score\": f1_score(actual, pred)}\n",
    "        f1_scores.append(f1_score(actual, pred))\n",
    "    return results, sum(f1_scores)/len(f1_scores)"
   ]
  },
  {
   "cell_type": "code",
   "execution_count": 9,
   "metadata": {},
   "outputs": [],
   "source": [
    "scaler = StandardScaler()\n",
    "kf = KFold(5)\n",
    "\n",
    "#classifier = KNeighborsClassifier()\n",
    "classifier = RandomForestClassifier()\n",
    "\n",
    "all_train_y = None\n",
    "all_test_y = None\n",
    "all_train_predictions = None\n",
    "all_test_predictions = None\n",
    "\n",
    "for train_index, test_index in kf.split(features):\n",
    "    \n",
    "    train_X, train_y = features.loc[train_index], classification.loc[train_index]\n",
    "    test_X, test_y = features.loc[test_index], classification.loc[test_index]\n",
    "    \n",
    "    train_X_scaled = scaler.fit_transform(train_X)\n",
    "    classifier.fit(train_X, train_y)\n",
    "    \n",
    "    train_predictions = classifier.predict(train_X)\n",
    "    test_predictions = classifier.predict(test_X)\n",
    "    \n",
    "    if all_test_y is None:\n",
    "        all_train_y = train_y.values.T\n",
    "        all_test_y = test_y.values.T\n",
    "        all_train_predictions = train_predictions.T\n",
    "        all_test_predictions = test_predictions.T\n",
    "    else:\n",
    "        all_train_y = np.hstack((all_train_y, train_y.values.T))\n",
    "        all_test_y = np.hstack((all_test_y, test_y.values.T))\n",
    "        all_train_predictions = np.hstack((all_train_predictions, train_predictions.T))\n",
    "        all_test_predictions = np.hstack((all_test_predictions, test_predictions.T))"
   ]
  },
  {
   "cell_type": "code",
   "execution_count": 10,
   "metadata": {},
   "outputs": [
    {
     "name": "stdout",
     "output_type": "stream",
     "text": [
      "Mean train F1-score: 0.9999862610941664\n",
      "Mean test F1-score: 0.48218657099668244\n"
     ]
    }
   ],
   "source": [
    "train_results, train_mean_f1_score = evaluate_predictions(classification_labels, all_train_y, all_train_predictions)\n",
    "test_results, test_mean_f1_score = evaluate_predictions(classification_labels, all_test_y, all_test_predictions)\n",
    "print(f'Mean train F1-score: {train_mean_f1_score}')\n",
    "print(f'Mean test F1-score: {test_mean_f1_score}')\n",
    "\n",
    "with open(\"resultsRF.json\", \"w+\") as f:\n",
    "    json.dump(test_results, f, indent=4)\n",
    "\n",
    "np.savetxt('predictionsRF.txt', all_test_predictions, fmt='%d')"
   ]
  },
  {
   "cell_type": "code",
   "execution_count": 11,
   "metadata": {},
   "outputs": [],
   "source": [
    "scaler = StandardScaler()\n",
    "classifier = RandomForestClassifier()\n",
    "\n",
    "train_X, train_y = features.values, classification.values\n",
    "\n",
    "train_X_scaled = scaler.fit_transform(train_X)\n",
    "classifier.fit(train_X_scaled, train_y)\n",
    "\n",
    "pickle.dump(classifier, open(\"RF.bin\", \"wb+\"))\n",
    "pickle.dump(scaler, open(\"scaler.bin\", \"wb+\"))"
   ]
  },
  {
   "cell_type": "code",
   "execution_count": 12,
   "metadata": {},
   "outputs": [
    {
     "name": "stdout",
     "output_type": "stream",
     "text": [
      "(14, 8452)\n"
     ]
    }
   ],
   "source": [
    "predictions = np.loadtxt('predictionsRF.txt', dtype=int)\n",
    "print(predictions.shape)"
   ]
  },
  {
   "cell_type": "code",
   "execution_count": 13,
   "metadata": {},
   "outputs": [],
   "source": [
    "def position_to_text(position, labels):\n",
    "    \"\"\"\n",
    "    Convert a binary list of positions to text describing the position.\n",
    "    \"\"\"\n",
    "    positions_indexes = np.where(position == 1)[0]\n",
    "    predicted_position = [labels[index] for index in positions_indexes]\n",
    "    return predicted_position\n",
    "\n",
    "predicted_positions = [position_to_text(player, classification_labels) for player in predictions.T]\n",
    "fm_dataset['predicted_positions'] = predicted_positions"
   ]
  },
  {
   "cell_type": "code",
   "execution_count": 14,
   "metadata": {},
   "outputs": [
    {
     "name": "stdout",
     "output_type": "stream",
     "text": [
      "Cristiano Ronaldo ['ST']\n",
      "Lionel Messi ['AML', 'AMC', 'AMR']\n",
      "Lionel Messi ['AML', 'AMC', 'AMR']\n",
      "Luka Modrić ['MC']\n",
      "Thiago Silva ['DC']\n",
      "Toni Kroos ['MC', 'AML', 'AMC']\n",
      "Milan Škriniar ['DC']\n",
      "Sergio Ramos ['DM', 'MC']\n",
      "Casemiro ['DM', 'MC']\n",
      "Raphaël Guerreiro []\n"
     ]
    }
   ],
   "source": [
    "players_name = [\"Cristiano Ronaldo\",\n",
    "                \"Lionel Messi\",\n",
    "                'Lionel Messi',\n",
    "                'Luka Modrić',\n",
    "                'Thiago Silva',\n",
    "                'Toni Kroos',\n",
    "                'Milan Škriniar',\n",
    "                \"Sergio Ramos\",\n",
    "                \"Casemiro\",\n",
    "                \"Raphaël Guerreiro\"]\n",
    "\n",
    "for player_name in players_name:\n",
    "    print(player_name, fm_dataset.loc[fm_dataset['Name'] == player_name].predicted_positions.values[0])"
   ]
  },
  {
   "cell_type": "code",
   "execution_count": 15,
   "metadata": {},
   "outputs": [],
   "source": [
    "# Load classifier and scaler\n",
    "classifier = pickle.load(open(\"RF.bin\", \"rb\"))\n",
    "scaler = pickle.load(open(\"scaler.bin\", \"rb\"))\n"
   ]
  },
  {
   "cell_type": "code",
   "execution_count": 16,
   "metadata": {},
   "outputs": [],
   "source": [
    "attributes = {\n",
    "\"Age\": 31,\n",
    "\"Height\": 186,\n",
    "\"Weight\": 84,\n",
    "\"AerialAbility\": 2,\n",
    "\"CommandOfArea\": 1,\n",
    "\"Communication\": 3,\n",
    "\"Eccentricity\": 1,\n",
    "\"Handling\": 3,\n",
    "\"Kicking\": 2,\n",
    "\"OneOnOnes\": 2,\n",
    "\"Reflexes\": 3,\n",
    "\"RushingOut\": 1,\n",
    "\"TendencyToPunch\": 3,\n",
    "\"Throwing\": 2,\n",
    "\"Corners\": 12,\n",
    "\"Crossing\": 14,\n",
    "\"Dribbling\": 15,\n",
    "\"Finishing\": 19,\n",
    "\"FirstTouch\": 16,\n",
    "\"Freekicks\": 14,\n",
    "\"Heading\": 18,\n",
    "\"LongShots\": 19,\n",
    "\"Longthrows\": 6,\n",
    "\"Marking\": 2,\n",
    "\"Passing\": 14,\n",
    "\"PenaltyTaking\": 19,\n",
    "\"Tackling\": 8,\n",
    "\"Technique\": 15,\n",
    "\"Aggression\": 6,\n",
    "\"Anticipation\": 17,\n",
    "\"Bravery\": 16,\n",
    "\"Composure\": 13,\n",
    "\"Concentration\": 16,\n",
    "\"Vision\": 13,\n",
    "\"Decisions\": 17,\n",
    "\"Determination\": 20,\n",
    "\"Flair\": 18,\n",
    "\"OffTheBall\": 18,\n",
    "\"Positioning\": 5,\n",
    "\"Teamwork\": 6,\n",
    "\"Workrate\": 7,\n",
    "\"Acceleration\": 13,\n",
    "\"Agility\": 12,\n",
    "\"Balance\": 13,\n",
    "\"Jumping\": 16,\n",
    "\"LeftFoot\": 15,\n",
    "\"NaturalFitness\": 19,\n",
    "\"Pace\": 17,\n",
    "\"RightFoot\": 20,\n",
    "\"Stamina\": 17,\n",
    "\"Strength\": 16\n",
    "}"
   ]
  },
  {
   "cell_type": "code",
   "execution_count": 17,
   "metadata": {},
   "outputs": [
    {
     "ename": "KeyError",
     "evalue": "'First Touch'",
     "output_type": "error",
     "traceback": [
      "\u001b[0;31m---------------------------------------------------------------------------\u001b[0m",
      "\u001b[0;31mKeyError\u001b[0m                                  Traceback (most recent call last)",
      "Cell \u001b[0;32mIn[17], line 1\u001b[0m\n\u001b[0;32m----> 1\u001b[0m feat \u001b[39m=\u001b[39m [[attributes[feature] \u001b[39mfor\u001b[39;00m feature \u001b[39min\u001b[39;00m features]]\n\u001b[1;32m      2\u001b[0m feat \u001b[39m=\u001b[39m scaler\u001b[39m.\u001b[39mtransform(feat)\n\u001b[1;32m      3\u001b[0m prediction \u001b[39m=\u001b[39m classifier\u001b[39m.\u001b[39mpredict(feat)[\u001b[39m0\u001b[39m]\n",
      "Cell \u001b[0;32mIn[17], line 1\u001b[0m, in \u001b[0;36m<listcomp>\u001b[0;34m(.0)\u001b[0m\n\u001b[0;32m----> 1\u001b[0m feat \u001b[39m=\u001b[39m [[attributes[feature] \u001b[39mfor\u001b[39;00m feature \u001b[39min\u001b[39;00m features]]\n\u001b[1;32m      2\u001b[0m feat \u001b[39m=\u001b[39m scaler\u001b[39m.\u001b[39mtransform(feat)\n\u001b[1;32m      3\u001b[0m prediction \u001b[39m=\u001b[39m classifier\u001b[39m.\u001b[39mpredict(feat)[\u001b[39m0\u001b[39m]\n",
      "\u001b[0;31mKeyError\u001b[0m: 'First Touch'"
     ]
    }
   ],
   "source": [
    "feat = [[attributes[feature] for feature in features]]\n",
    "feat = scaler.transform(feat)\n",
    "prediction = classifier.predict(feat)[0]\n",
    "predicted_positions = position_to_text(prediction, classification_labels)\n",
    "positions = \", \".join(predicted_positions) if len(predicted_positions) > 0 else \"No Predicted Positions.\"\n",
    "print(positions)"
   ]
  }
 ],
 "metadata": {
  "kernelspec": {
   "display_name": "base",
   "language": "python",
   "name": "python3"
  },
  "language_info": {
   "codemirror_mode": {
    "name": "ipython",
    "version": 3
   },
   "file_extension": ".py",
   "mimetype": "text/x-python",
   "name": "python",
   "nbconvert_exporter": "python",
   "pygments_lexer": "ipython3",
   "version": "3.11.3"
  },
  "orig_nbformat": 4
 },
 "nbformat": 4,
 "nbformat_minor": 2
}
